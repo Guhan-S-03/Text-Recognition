version https://git-lfs.github.com/spec/v1
oid sha256:d7951e927a2c928cded6a5fc03d39ddd245de812a58001a8b730cbe0040926d3
size 4326345
